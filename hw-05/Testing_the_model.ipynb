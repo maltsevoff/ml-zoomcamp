{
 "cells": [
  {
   "cell_type": "code",
   "execution_count": 2,
   "id": "a77d54df",
   "metadata": {},
   "outputs": [],
   "source": [
    "import requests"
   ]
  },
  {
   "cell_type": "markdown",
   "id": "459ec069",
   "metadata": {},
   "source": [
    "## prediction via docker"
   ]
  },
  {
   "cell_type": "code",
   "execution_count": 4,
   "id": "346d9664",
   "metadata": {},
   "outputs": [
    {
     "data": {
      "text/plain": [
       "{'looking_for_a_job_change': True,\n",
       " 'looking_for_a_job_change_probability': 0.6180086135864258}"
      ]
     },
     "execution_count": 4,
     "metadata": {},
     "output_type": "execute_result"
    }
   ],
   "source": [
    "url = 'http://localhost:9696/predict'\n",
    "employee = {\"city\": 'city_103', \n",
    "            \"city_development_index\": 0.230, \n",
    "            \"gender\": 'Male', \n",
    "            \"relevent_experience\": 'Has relevent experience', \n",
    "            \"enrolled_university\": 'no_enrollment',\n",
    "            \"education_level\": 'Graduate',\n",
    "            \"major_discipline\" : 'STEM',\n",
    "            \"experience\": '>20', \n",
    "            \"last_new_job\": 1,\n",
    "            \"training_hours\": 36\n",
    "           }\n",
    "requests.post(url, json=employee).json()"
   ]
  },
  {
   "cell_type": "markdown",
   "id": "14805d06",
   "metadata": {},
   "source": [
    "## prediction via heroku"
   ]
  },
  {
   "cell_type": "code",
   "execution_count": 5,
   "id": "07e1338f",
   "metadata": {},
   "outputs": [
    {
     "data": {
      "text/plain": [
       "{'looking_for_a_job_change': True,\n",
       " 'looking_for_a_job_change_probability': 0.5961554050445557}"
      ]
     },
     "execution_count": 5,
     "metadata": {},
     "output_type": "execute_result"
    }
   ],
   "source": [
    "url = 'https://prediction-job-change.herokuapp.com/predict'\n",
    "employee = {\"city\": 'city_103', \n",
    "            \"city_development_index\": 0.920, \n",
    "            \"gender\": 'Male', \n",
    "            \"relevent_experience\": 'Has relevent experience', \n",
    "            \"enrolled_university\": 'no_enrollment',\n",
    "            \"education_level\": 'Graduate',\n",
    "            \"major_discipline\" : 'STEM',\n",
    "            \"experience\": '>20', \n",
    "            \"last_new_job\": 1,\n",
    "            \"training_hours\": 36\n",
    "           }\n",
    "requests.post(url, json=employee).json()"
   ]
  },
  {
   "cell_type": "code",
   "execution_count": null,
   "id": "9c712927",
   "metadata": {},
   "outputs": [],
   "source": []
  }
 ],
 "metadata": {
  "kernelspec": {
   "display_name": "Python 3",
   "language": "python",
   "name": "python3"
  },
  "language_info": {
   "codemirror_mode": {
    "name": "ipython",
    "version": 3
   },
   "file_extension": ".py",
   "mimetype": "text/x-python",
   "name": "python",
   "nbconvert_exporter": "python",
   "pygments_lexer": "ipython3",
   "version": "3.8.11"
  }
 },
 "nbformat": 4,
 "nbformat_minor": 5
}
